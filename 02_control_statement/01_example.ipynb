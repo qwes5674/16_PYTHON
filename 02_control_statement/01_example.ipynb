{
 "cells": [
  {
   "cell_type": "code",
   "execution_count": 2,
   "metadata": {},
   "outputs": [
    {
     "name": "stdout",
     "output_type": "stream",
     "text": [
      "F\n"
     ]
    }
   ],
   "source": [
    "score = int(input(\"시험 점수를 입력하세요: \"))\n",
    "\n",
    "if score >= 90:\n",
    "    print('a')\n",
    "elif score >= 80:\n",
    "    print('b')\n",
    "elif score >= 70:\n",
    "    print('C')\n",
    "elif score >= 60:\n",
    "    print('D')\n",
    "else :\n",
    "    print('F')                \n",
    "        "
   ]
  },
  {
   "cell_type": "code",
   "execution_count": 3,
   "metadata": {},
   "outputs": [
    {
     "name": "stdout",
     "output_type": "stream",
     "text": [
      "금요일\n"
     ]
    }
   ],
   "source": [
    "num = int(input(\"1부터 7까지의 숫자를 입력하세요\"))\n",
    "match num:\n",
    "    case 1:\n",
    "        print('월요일')\n",
    "    case 2:\n",
    "        print('화요일')\n",
    "    case 3:\n",
    "        print('수용일')\n",
    "    case 4:\n",
    "        print('목요일')\n",
    "    case 5:\n",
    "        print('금요일')\n",
    "    case 6:\n",
    "        print('토요일')\n",
    "    case 7:\n",
    "        print('일요일')           "
   ]
  },
  {
   "cell_type": "code",
   "execution_count": 12,
   "metadata": {},
   "outputs": [
    {
     "name": "stdout",
     "output_type": "stream",
     "text": [
      "로그인 실패\n"
     ]
    }
   ],
   "source": [
    "input_id = input(\"아이디를 입력하세요: \")\n",
    "input_pw = input(\"비밀번호를 입력하세요: \")\n",
    "\n",
    "if input_id == \"python\" and input_pw ==\"1234\" :\n",
    "    print('로그인 성공')\n",
    "else :\n",
    "    print('로그인 실패')    "
   ]
  }
 ],
 "metadata": {
  "kernelspec": {
   "display_name": "pylecture_env",
   "language": "python",
   "name": "python3"
  },
  "language_info": {
   "codemirror_mode": {
    "name": "ipython",
    "version": 3
   },
   "file_extension": ".py",
   "mimetype": "text/x-python",
   "name": "python",
   "nbconvert_exporter": "python",
   "pygments_lexer": "ipython3",
   "version": "3.12.7"
  }
 },
 "nbformat": 4,
 "nbformat_minor": 2
}
