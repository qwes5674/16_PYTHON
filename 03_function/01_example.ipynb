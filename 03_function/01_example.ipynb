{
 "cells": [
  {
   "cell_type": "code",
   "execution_count": 31,
   "metadata": {},
   "outputs": [
    {
     "name": "stdout",
     "output_type": "stream",
     "text": [
      "모든 숫자의 곱:  240\n"
     ]
    }
   ],
   "source": [
    "def multiply_all (*args):\n",
    "        result = 1\n",
    "        \n",
    "        for num in args:\n",
    "            result *= num\n",
    "            \n",
    "        return result\n",
    "\n",
    "\n",
    "numbers = list(map(int, input(\"숫자를 입력해주세요(띄어쓰기로 구분): \").split()))\n",
    "result = multiply_all(*numbers)\n",
    "print(\"모든 숫자의 곱: \" , result)\n",
    "\n",
    "\n"
   ]
  },
  {
   "cell_type": "code",
   "execution_count": 30,
   "metadata": {},
   "outputs": [
    {
     "name": "stdout",
     "output_type": "stream",
     "text": [
      "음수\n"
     ]
    }
   ],
   "source": [
    "num = int(input())\n",
    "\n",
    "def check_number(num):\n",
    "   return '양수' if num > 0 else('음수' if num <0 else 0)\n",
    "\n",
    "result = check_number(num)\n",
    "print (result)"
   ]
  },
  {
   "cell_type": "code",
   "execution_count": 18,
   "metadata": {},
   "outputs": [
    {
     "name": "stdout",
     "output_type": "stream",
     "text": [
      "[1, 4, 9, 16, 25]\n"
     ]
    }
   ],
   "source": [
    "numbers = [1, 2, 3, 4, 5]\n",
    "\n",
    "numbers_change = map(lambda x : x**2, numbers)\n",
    "\n",
    "print(list(numbers_change))"
   ]
  }
 ],
 "metadata": {
  "kernelspec": {
   "display_name": "pylecture_env",
   "language": "python",
   "name": "python3"
  },
  "language_info": {
   "codemirror_mode": {
    "name": "ipython",
    "version": 3
   },
   "file_extension": ".py",
   "mimetype": "text/x-python",
   "name": "python",
   "nbconvert_exporter": "python",
   "pygments_lexer": "ipython3",
   "version": "3.12.7"
  }
 },
 "nbformat": 4,
 "nbformat_minor": 2
}
